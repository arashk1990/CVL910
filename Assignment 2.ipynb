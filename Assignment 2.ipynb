{
 "cells": [
  {
   "cell_type": "markdown",
   "metadata": {},
   "source": [
    "## RYERSON UNIVERSITY\n",
    "\n",
    "```\n",
    "Department of Civil Engineering\n",
    "```\n",
    "**CVL910 – Transport Planning - Fall 2020**\n",
    "\n",
    "```\n",
    "Assignment 2:\n",
    "Trip Generation and Distribution\n",
    "```"
   ]
  },
  {
   "cell_type": "markdown",
   "metadata": {},
   "source": [
    "## Trip Generation\n",
    "\n",
    "### Background:\n",
    "\n",
    "Transportation Tomorrow Survey (TTS) is a cooperative effort by local and\n",
    "provincial government agencies to collect information about urban travel in southern\n",
    "Ontario. The survey has been undertaken every five years since 1986.\n",
    "\n",
    "For this assignment, a file has been extracted from TTS 2011 database (files have been modified for privacy concerns). This excel file contains household travel\n",
    "behaviour information in the town of Oakville. Each row of this file represents a\n",
    "household and the number of daily trips made by the household, along with\n",
    "additional information that has been collected during the telephone interview\n",
    "surveys. You can find the details of attributes in *Table 1*."
   ]
  },
  {
   "cell_type": "markdown",
   "metadata": {},
   "source": [
    "**Question 1:** Using the data provided and NumPy libary:\n",
    "\n",
    "\n",
    "* **(a)** Develop a household-based regression model for trip generation. Set the dependant variable of your model to be the number of daily trips of a given household, and the independent variables to be the relevant household attributes. To find the best model, you will need to develop models based on different selections of independent variables from available variables. Statistical significance of model parameters, goodness of fit of the model and the rationale behind selecting variables should be presented and explained.\n",
    "* **(b)** Develop a zone-based regression model for trip generation, in which the dependant variable is the total number of trips generated in a given zone, and the independent variables are selected zonal total or average values. Present Statistical significance of model parameters, goodness of fit of the model and the rationale behind selecting variables. Compare the results with those obtained in part (a). Discuss the differences. Which model would you prefer for forecasting? What changes do you suggest to improve these models?\n",
    "* **(c)** Using household size and number of vehicles in the household, develop a cross classification model of trip generation. For each variable, justify category definitions. Based on your model, explain how number of trips varies with household size and number of vehicles. Compare your model with the model developed in part (a). Which model would you use for forecasting?"
   ]
  },
  {
   "cell_type": "markdown",
   "metadata": {},
   "source": [
    "**Table 1: - Variable Definitions. For more info visit [here](http://www.dmg.utoronto.ca/pdf/tts/)**\n",
    "\n",
    "Variable Name | Definition\n",
    "--- | --- |\n",
    "Zone |Zone number\n",
    "dwtype |Dwelling unit type\n",
    "n_pers| Number of Persons in the household\n",
    "n_veh| Number of Vehicles in the household\n",
    "n_lic| Number licenced drivers in the household\n",
    "n_emf_ft| Number of fulltime workers in the household\n",
    "n_emp_pt| Number of part-time workers in the\n",
    "household\n",
    "n_emp_home |Number of work at home persons in the\n",
    "household\n",
    "n_student| Number of students in the household\n",
    "n_hhld_trp| Total daily trips of the household\n",
    "expf| Expansion Factors"
   ]
  },
  {
   "cell_type": "markdown",
   "metadata": {},
   "source": [
    "## Trip Distribution\n",
    "\n",
    "**Question 2:** *Figure 1* depicts a hypothetical 3-zone system. For each zone, projected trip\n",
    "generation (in thousands of trips) in year 2041 is provided in the figure. Observed\n",
    "(year 2011) morning peak-period trip matrix for this system is presented In *Table 2*.\n",
    "Given these data, answer the following questions:\n",
    "\n",
    "\n",
    "* **(a)** Using the biproportional algorithm, project the 2041 trip distribution matrix. Continue the updating procedure for two iterations. Compute the error for all rows and columns. Briefly describe the computational procedure and how your answer is generated.\n",
    "* **(b)** Table 3 contains travel times between zones in this system. Use the gravity model with the impedance function of $f_ij=exp(− 0. 064 ∗ t_{ij}),(t_{ij}:travel time between zone i and j)$ to project the 2041 distribution matrix. Continue the updating procedure for two iterations. Compute the error for all rows and columns. Briefly describe the computational procedure and how your answer is generated.\n",
    "* **(c)** Compare the results obtained in previous parts. What are the advantages and disadvantages of each method?"
   ]
  },
  {
   "cell_type": "markdown",
   "metadata": {},
   "source": [
    "![Fig1](images/Assign2Fig1.png)"
   ]
  },
  {
   "cell_type": "markdown",
   "metadata": {},
   "source": [
    "**Table 2: - Trip Distribution Matrix-2011(Thousands of Trips)**\n",
    "\n",
    "Origin&darr; \\ Destination&rarr; |A | B | C | Total\n",
    "--- | --- |--- | --- |--- |\n",
    "**A** |23.1 |2.3| 1.0|  **26.4**\n",
    "**B** |22.6| 5.6| 4.5| **32.7**\n",
    "**C** |16.4| 4.7 |11.1 | **32.2**\n",
    "**Total**| **62.1**| **12.6**| **16.6**| **91.1**"
   ]
  },
  {
   "cell_type": "markdown",
   "metadata": {},
   "source": [
    "**Table 3: - Travel times (Minutes)**\n",
    "\n",
    "Origin&darr; \\ Destination&rarr; |A | B | C \n",
    "--- | --- |--- | --- |\n",
    "**A**| 8.4| 15.8| 30.2\n",
    "**B** |13.2| 8.4 |12\n",
    "**C**| 25.2 |10| 8.4"
   ]
  },
  {
   "cell_type": "markdown",
   "metadata": {},
   "source": [
    "## Graduate Students Only\n",
    "\n",
    "Literature review on trip distribution model.\n",
    "\n",
    "Article:\n",
    "```\n",
    "Elmi, A., Badoe, D., & Miller, E. (1999). Transferability analysis of work-trip-distribution\n",
    "models. Transportation Research Record: Journal of the Transportation Research Board,\n",
    "(1676), 169-176.\n",
    "```\n",
    "(800-1000 word limits)"
   ]
  },
  {
   "cell_type": "code",
   "execution_count": null,
   "metadata": {},
   "outputs": [],
   "source": []
  }
 ],
 "metadata": {
  "kernelspec": {
   "display_name": "Python 3",
   "language": "python",
   "name": "python3"
  },
  "language_info": {
   "codemirror_mode": {
    "name": "ipython",
    "version": 3
   },
   "file_extension": ".py",
   "mimetype": "text/x-python",
   "name": "python",
   "nbconvert_exporter": "python",
   "pygments_lexer": "ipython3",
   "version": "3.7.6"
  }
 },
 "nbformat": 4,
 "nbformat_minor": 2
}
