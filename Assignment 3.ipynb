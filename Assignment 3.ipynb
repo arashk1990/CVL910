{
 "cells": [
  {
   "cell_type": "markdown",
   "metadata": {},
   "source": [
    "## RYERSON UNIVERSITY\n",
    "\n",
    "```\n",
    "Department of Civil Engineering\n",
    "```\n",
    "**CVL910 – Transport Planning - Fall 2020**\n",
    "\n",
    "```\n",
    "Assignment 3:\n",
    "Mode Choice Modelling\n",
    "\n",
    "```"
   ]
  },
  {
   "cell_type": "markdown",
   "metadata": {},
   "source": [
    "The purpose of this assignment is to estimate a mode choice model of mode preferences using a Logit\n",
    "model. The dataset consists of a sample of trips collected from the TTS11 travel survey in the Greater\n",
    "Toronto and Hamilton Area (GTHA). The data provided contains information on the selected mode of\n",
    "travel and a set of socio-economic attributes of each trip. The table below explains each column in the\n",
    "data"
   ]
  },
  {
   "attachments": {},
   "cell_type": "markdown",
   "metadata": {},
   "source": [
    "![tab1](images/assignment3tab.png)"
   ]
  },
  {
   "cell_type": "markdown",
   "metadata": {},
   "source": [
    "Using BIOGEME software, develop a multinomial logit model for **mode choice** given this dataset. A\n",
    "skeleton code is provided to guide you in starting your code. Your submission on D2L must include:\n",
    "\n",
    "1. One written report (12 page max) in .doc/.docx or .pdf format which includes:\n",
    "\n",
    "    a) [Signed report cover page](https://www.ryerson.ca/content/dam/civil/forms-resources/undergraduate/Assignments-Cover-Page.pdf)\n",
    "\n",
    "    b) BIOGEME estimation results for your final model specification (beta values, standard error, statistical significance, final log-likelihood, rho-square value) [3 marks]\n",
    "       \n",
    "    c) A discussion on these results (800 words max) [3 marks]\n",
    "    \n",
    "    d) Compare the differences and advantages of using a discrete choice model over a linear regression model? [2 marks]\n",
    "    e) Describe the process which your final model was obtained (variable selection, preliminary models, rejected parameters, etc.) [5 marks]\n",
    "    f) Any additional variables that you would like to have included in the model that may improve it. [1 mark]\n",
    "**[Total 14 marks]**\n",
    "2. One working script/code (with comments explaining your logic) **[6 marks]**"
   ]
  },
  {
   "cell_type": "markdown",
   "metadata": {},
   "source": [
    "## Graduate Students Only\n",
    "\n",
    "3. Use a confusion matrix and calculate the model precision and accuracy. Perform a market share\n",
    "    prediction on the sample dataset: ‘tts11_tp3_graduate_mktshare.csv’. Show your results in your\n",
    "    report file. **[4 marks]**\n",
    "    \n",
    "4. Literature review (1000 words max): **[6 marks]**\n",
    "\n",
    "Article:\n",
    "```\n",
    "    Alizadeh, H., Farooq, B., Morency, C., & Saunier, N. (2017). On the role of bridges as anchor\n",
    "    points in route choice modeling. _Transportation_ , 1-26.\n",
    "```\n",
    "(800-1000 word limits)"
   ]
  },
  {
   "attachments": {},
   "cell_type": "markdown",
   "metadata": {},
   "source": [
    "![app1](images/assignment3fig1.png)"
   ]
  }
 ],
 "metadata": {
  "kernelspec": {
   "display_name": "Python 3",
   "language": "python",
   "name": "python3"
  },
  "language_info": {
   "codemirror_mode": {
    "name": "ipython",
    "version": 3
   },
   "file_extension": ".py",
   "mimetype": "text/x-python",
   "name": "python",
   "nbconvert_exporter": "python",
   "pygments_lexer": "ipython3",
   "version": "3.7.6"
  }
 },
 "nbformat": 4,
 "nbformat_minor": 2
}
