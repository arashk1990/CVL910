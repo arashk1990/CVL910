{
 "cells": [
  {
   "cell_type": "markdown",
   "metadata": {},
   "source": [
    "```\n",
    "RYERSON UNIVERSITY\n",
    "Department of Civil Engineering\n",
    "\n",
    "CVL910 – Transport Planning - Fall 2020\n",
    "\n",
    "\n",
    "Assignment 1:\n",
    "Regression, Probability Distribution and Design of Experiment\n",
    "```"
   ]
  },
  {
   "cell_type": "markdown",
   "metadata": {},
   "source": [
    "## Regression Analysis: \n",
    "*Answers and calculations to question 1 are to be written. Show your workings and formulas.*"
   ]
  },
  {
   "cell_type": "markdown",
   "metadata": {},
   "source": [
    "<img src=\"images/Assign1Fig1.png\" width = \"100\" >"
   ]
  },
  {
   "cell_type": "markdown",
   "metadata": {},
   "source": [
    "### Background:\n",
    "Train Hôtel is a Montreal-based train company that offers special leisure day-coaches between Québec\n",
    "and Northeastern USA destinations (Figure 1). They are proposing a new service operating overnight\n",
    "trains with sleeper amenities and entertainment, serving business travellers and tourists. A stated\n",
    "preference survey is conducted to analyze the anticipated demand of this new travel mode."
   ]
  },
  {
   "cell_type": "markdown",
   "metadata": {},
   "source": [
    "> **Definition:** A *regression model* is a model that describes how a variable(s) *x* influences the value of another variable *y*. Given the value of *x* , the value of *y* is obtained by the following linear\n",
    "relationship:  *y = f(x) = β<sub>0</sub> + β<sub>1</sub>x* , where *β<sub>0</sub>* and β<sub>1</sub> are the regression coefficients.\n"
   ]
  },
  {
   "cell_type": "markdown",
   "metadata": {},
   "source": [
    "**Table 1: Train Hotel Stated Preference Survey Results**\n",
    "\n",
    "Obs. | Travel Time(minutes) | Cost($) | Reliability(\\%)\n",
    "--- | --- | --- | ---\n",
    "1 | 862 | 115 | 90\n",
    "2| 720| 92| 85\n",
    "3 |716 |92| 90\n",
    "4 |869 |115| 75\n",
    "5 |555| 74| 85\n",
    "6| 588| 74| 85\n",
    "7 |725 |92 |75\n",
    "8| 550| 74 |90\n",
    "9 |890| 115| 75\n",
    "10 |548| 74 |90"
   ]
  },
  {
   "cell_type": "markdown",
   "metadata": {},
   "source": [
    "**Question 1:** It is hypothesized that the travel time (in minutes) of commuters in a survey shown in *Table 1*, is related to their cost of travel (e.g. ticket price) by the following equation:\n",
    "\n",
    "> Travel Time =  β<sub>0</sub> + β<sub>1</sub> × COST\n",
    "\n",
    "* **(a)** Plot the cost vs. travel time and fit a regression line using the data points from *Table 1*. Derive the values of *β<sub>0</sub>* and *β<sub>1</sub>* from the regression line.\n",
    "\n",
    "* **(b)** With your linear regression model, find:\n",
    "    * (i) The _predicted_ travel time ($\\hat{y}$) for each observation\n",
    "    * (ii) The unbiased variance of the estimator, Var($\\hat{y}$)\n",
    "    * (iii) The covariance of the estimator, Cov($\\hat{y}$)\n",
    "    * (iv) The coefficient of determination, R^2\n",
    "    \n",
    " \n",
    "* **(c)** Calculate the standard error and t-statistic of the coefficient for COST\n",
    "* **(d)** Briefly discuss the results that you obtained in (b) and (c).\n",
    "* **(e)** Sketch the t-distribution and indicate the confidence interval where the expected value of the coefficient lie. Explain your results.\n"
   ]
  },
  {
   "cell_type": "markdown",
   "metadata": {},
   "source": [
    "**Question 2:** A new linear regression model is developed that incorporates the perceived reliability of the\n",
    "    travel mode:\n",
    "> y =  β<sub>0</sub> + β<sub>1</sub> × COST + β<sub>2</sub> × RELIABILITY\n",
    "\n",
    "* **(a)** Using the data from *Table 1*, compute the coefficients of the regression model: *β<sub>0</sub>* , *β<sub>1</sub>* and *β<sub>2</sub>* (You can use numerical software to find the solutions, i.e. Excel, Matlab, Numpy, etc.).\n",
    "    * (i) Note down the standard error of the coefficients for COST and RELIABILITY.\n",
    "    * (ii) Perform a residual analysis and find the R^2 of the model and explain what do they\n",
    "      indicate? Compare it with the model in question 1.\n",
    "* **(b)** Given that the commute is determined by both cost and reliability, discuss the results\n",
    "   obtained in (a) in terms of how it effects the perception of the travel mode."
   ]
  },
  {
   "cell_type": "markdown",
   "metadata": {},
   "source": [
    "## Experiment Design\n",
    "\n",
    "**Question 3:** Assuming that now, you want to develop a new study on travel behaviour on a new Subway line\n",
    "    in Downtown Toronto. Ignoring data limitations, what variables might you want to use to\n",
    "    develop a Stated Preference Survey to capture the mode choice behaviour of commuters to better\n",
    "    and/or improve planning and policy studies of a new Subway line?\n",
    "    (a) Identify the expected range of values of the variables, the expected signs of the\n",
    "       coefficients and other considerations you may think of.\n",
    "    (b) Provide a brief statement of design showing the problem formulation, planning,\n",
    "       implementation and evaluation of the study. Use diagrams, charts, figures, etc."
   ]
  },
  {
   "cell_type": "markdown",
   "metadata": {},
   "source": [
    "## Graduate Students only\n",
    "Literature review on travel demand modelling, planning and analysis.\n",
    "Article:\n",
    "\n",
    "```\n",
    "Farooq, B., Miller, E., & Haider, M. (2010). Hedonic analysis of office space rent. Transportation\n",
    "Research Record: Journal of the Transportation Research Board , (2174), 118-127.\n",
    "```\n",
    "(800–1000 word limit)"
   ]
  }
 ],
 "metadata": {
  "kernelspec": {
   "display_name": "Python 3",
   "language": "python",
   "name": "python3"
  },
  "language_info": {
   "codemirror_mode": {
    "name": "ipython",
    "version": 3
   },
   "file_extension": ".py",
   "mimetype": "text/x-python",
   "name": "python",
   "nbconvert_exporter": "python",
   "pygments_lexer": "ipython3",
   "version": "3.7.6"
  }
 },
 "nbformat": 4,
 "nbformat_minor": 2
}
