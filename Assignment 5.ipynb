{
 "cells": [
  {
   "cell_type": "markdown",
   "metadata": {},
   "source": [
    "## RYERSON UNIVERSITY\n",
    "\n",
    "```\n",
    "Department of Civil Engineering\n",
    "```\n",
    "**CVL910 – Transport Planning - Fall 2020**\n",
    "\n",
    "```\n",
    "Assignment 4:\n",
    "Trip Assignment and Braess Paradox\n",
    "```"
   ]
  },
  {
   "cell_type": "markdown",
   "metadata": {},
   "source": [
    "**Question 1:**\n",
    "1. Find the user-equilibrium flow and travel times for the network shown in *Figure 1*. Travel times for each link are:\n",
    "\n",
    "\n",
    "$t_1 =x_1^2 + 2$\n",
    "\n",
    "$t_2 =x_2 + 3$\n",
    "\n",
    "$t_3 = 2x_3^2 + 1$\n",
    "\n",
    "$t_4 = 4x_4 + 2$\n",
    "\n",
    "   Demand between Node 1 and 3 is 4 units of flow. **[4 marks]**"
   ]
  },
  {
   "cell_type": "markdown",
   "metadata": {},
   "source": [
    "2. Find the system-optimizing flow for the network in *Figure 1*. Compare the results to those of part (a).*(Hint: Use SO flow formulation [eq 3.30] in chapter 3 of “urban transportation networks by sheffi” , uploaded on D2L)* **[5 marks]**"
   ]
  },
  {
   "attachments": {},
   "cell_type": "markdown",
   "metadata": {},
   "source": [
    "![fi](images/assignment5fig1.png)\n"
   ]
  },
  {
   "cell_type": "markdown",
   "metadata": {},
   "source": [
    "**Question 2:**\n",
    "\n",
    "There are two cities, A and B, joined by two routes, I and II. All roads are one-way\n",
    "Roads. The demand between these two cities 100 unit of flow. Route I links city A\n",
    "to city B through city C. This route begins with a road linking city A to city C which\n",
    "has a cost-of-travel of $0.5 + \\frac{x_1}{200}$. Route I ends with a highway from city C to city\n",
    "B which has a cost-of-travel of $1$.\n",
    "\n",
    "Route II links city A to city B through city D. This route begins with a highway\n",
    "linking city A to city D which has a cost-of-travel of $1$. Route II ends with a road\n",
    "linking city D to city B which has a cost-of-travel for each traveler equal to $0.5 + \\frac{x_2}{200}$."
   ]
  },
  {
   "cell_type": "markdown",
   "metadata": {},
   "source": [
    "1. Find the user-equilibrium, travel cost for each link and total cost of travel for this network. **[3 marks]**\n",
    "\n",
    "2. Now the government builds a new (one-way) road from city C to city D. The new road is very short and has 0 cost-of-travel. Find the user-equilibrium, travel cost for each link and total cost of travel for this network. **[4 marks]**\n",
    "\n",
    "3. Compare total cost-of-travel as a result of the availability of the new road. How do you justify the change? Discuss. **[4 marks]**"
   ]
  }
 ],
 "metadata": {
  "kernelspec": {
   "display_name": "Python 3",
   "language": "python",
   "name": "python3"
  },
  "language_info": {
   "codemirror_mode": {
    "name": "ipython",
    "version": 3
   },
   "file_extension": ".py",
   "mimetype": "text/x-python",
   "name": "python",
   "nbconvert_exporter": "python",
   "pygments_lexer": "ipython3",
   "version": "3.7.6"
  }
 },
 "nbformat": 4,
 "nbformat_minor": 2
}
