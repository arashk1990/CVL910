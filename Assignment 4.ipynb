{
 "cells": [
  {
   "cell_type": "markdown",
   "metadata": {},
   "source": [
    "## RYERSON UNIVERSITY\n",
    "\n",
    "```\n",
    "Department of Civil Engineering\n",
    "```\n",
    "**CVL910 – Transport Planning - Fall 2020**\n",
    "\n",
    "```\n",
    "Assignment 4:\n",
    "Trip Assignment and shortest path\n",
    "\n",
    "```"
   ]
  },
  {
   "cell_type": "markdown",
   "metadata": {},
   "source": [
    "## Shortest Path\n",
    "\n",
    "**Question 1:** A network with 7 nodes and 11 two-directional links is depicted in *Figure 1*. Using\n",
    "Dijkstra’s algorithm, find the shortest paths from node 1 to all other nodes. Link\n",
    "times are the numbers beside each link, and it is the same for both directions on each\n",
    "link. [6 marks]"
   ]
  },
  {
   "attachments": {},
   "cell_type": "markdown",
   "metadata": {},
   "source": [
    "![fig1](images/assignment4fig1.png)"
   ]
  },
  {
   "cell_type": "markdown",
   "metadata": {},
   "source": [
    "## Trip Assignment\n",
    "\n",
    "**Question 2:**\n",
    "1. Do all-or-nothing assignment for the simple network shown in Figure 2. Origin- destination demand matrix for this network is presented in *Table 1*. Link times and directions are provided in the figure. You can do these calculations manually, or by writing a computer program (in case of writing a program, it should be included in your submissions) **[6 marks]**\n",
    "\n",
    "2. Discuss the assumptions of all-or-nothing assignment and their drawbacks. In spite of these assumptions, how can this method be useful for transportation planners? **[2 marks]**"
   ]
  },
  {
   "attachments": {},
   "cell_type": "markdown",
   "metadata": {},
   "source": [
    "![tab1](images/assignment4tab1.png)"
   ]
  },
  {
   "attachments": {},
   "cell_type": "markdown",
   "metadata": {},
   "source": [
    "![fig2](images/assignment4fig2.png)"
   ]
  },
  {
   "cell_type": "markdown",
   "metadata": {},
   "source": [
    "3. **(For undergraduate students only)** Two paths exist between two nodes, each consisting of one link. Travel time for link 1 and link 2, t1 and t2, is computed as: \n",
    "\n",
    "$t_1 = \\frac{6}{1-\\frac{X1}{200}}$\n",
    "\n",
    "$t_2 = \\frac{12}{1-\\frac{X2}{150}}$\n",
    "\n",
    "   Using user equilibrium criterion, calculate flow on link 1 as a function of total flow.\n",
    "   **[6 marks]**"
   ]
  },
  {
   "cell_type": "markdown",
   "metadata": {},
   "source": [
    "## Graduate Students Only\n",
    "**Question 3:**\n",
    "\n",
    "1) Compute the user equilibrium assignment for the network in question 2. The capacity for each link is provided in Table 2. Travel time for each link $i$ is calculated as:\n",
    "\n",
    "$t_i = \\frac{t0_i}{1-\\frac{V_i}{C_i}}$\n",
    "\n",
    "   in which $V_i$ is the flow on link, $C_i$ is the capacity of the link, and $t0_i$ is\n",
    "   the free flow travel time for the link. **[8 marks]**"
   ]
  },
  {
   "cell_type": "markdown",
   "metadata": {},
   "source": [
    "**Table 2: - Link Capacities**\n",
    "\n",
    "Link | Capacity\n",
    "--|--|\n",
    "1,2 | 200\n",
    "1,3| 400\n",
    "2,3| 250\n",
    "2,4 |300\n",
    "3,4 |200"
   ]
  },
  {
   "cell_type": "markdown",
   "metadata": {},
   "source": [
    "2. Compare the results to All-or-nothing assignments. Why are they different? Which one do you prefer for a real life trip assignment project? **[3 marks]**\n"
   ]
  },
  {
   "cell_type": "markdown",
   "metadata": {},
   "source": [
    "*Total marks: 20 undergraduate students, 25 graduate students*"
   ]
  }
 ],
 "metadata": {
  "kernelspec": {
   "display_name": "Python 3",
   "language": "python",
   "name": "python3"
  },
  "language_info": {
   "codemirror_mode": {
    "name": "ipython",
    "version": 3
   },
   "file_extension": ".py",
   "mimetype": "text/x-python",
   "name": "python",
   "nbconvert_exporter": "python",
   "pygments_lexer": "ipython3",
   "version": "3.7.6"
  }
 },
 "nbformat": 4,
 "nbformat_minor": 2
}
